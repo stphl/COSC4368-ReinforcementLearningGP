{
 "cells": [
  {
   "cell_type": "code",
   "execution_count": 4,
   "metadata": {},
   "outputs": [],
   "source": [
    "import random\n",
    "import matplotlib.pyplot as plt\n",
    "import numpy as np\n",
    "\n",
    "def selectAction(position, policy, legalMoves):\n",
    "    # Check if pickup and dropoff are applicable\n",
    "    if \"P\" in legalMoves:\n",
    "        return \"P\"  \n",
    "    if \"D\" in legalMoves:\n",
    "        return \"D\"\n",
    "\n",
    "    # Implement action selection based on policy\n",
    "    if policy == \"PRANDOM\":\n",
    "        return random.choice(legalMoves)\n",
    "    elif policy == \"PEXPLOIT\":\n",
    "        # Implement exploitation with probability 0.8 and exploration with probability 0.2\n",
    "        if random.random() < 0.8:\n",
    "            return exploitAction(position)\n",
    "        else:\n",
    "            return random.choice(legalMoves)\n",
    "    elif policy == \"PGREEDY\":\n",
    "        return exploitAction(position)\n",
    "\n",
    "def exploitAction(q_values, position, actions):\n",
    "    # Choose action with highest Q-value\n",
    "    # position: tuple with row and column coordinates of the agent\n",
    "    max_q_value = np.max(q_values[position[0], position[1]])\n",
    "    max_indices = np.argwhere(q_values[position[0], position[1]] == max_q_value).flatten()\n",
    "    # If there are multiple actions with the same highest Q-value, randomly choose one among them\n",
    "    chosen_action_index = random.choice(max_indices)\n",
    "    return actions[chosen_action_index]\n",
    "\n",
    "# def updateQValues(self, state, action, reward, nextState):\n",
    "#     # Implement Q-value update using Q-learning algorithm\n",
    "#     # state: tuple with row and column coordinates of the agent\n",
    "#     current_q_value = self.q_values[state[0], state[1], action]\n",
    "#     max_next_q_value = np.max(self.q_values[nextState[0], nextState[1]])\n",
    "#     new_q_value = current_q_value + self.alpha * (reward + max_next_q_value - current_q_value)\n",
    "#     self.q_values[state[0], state[1], action] = new_q_value\n",
    "\n"
   ]
  }
 ],
 "metadata": {
  "kernelspec": {
   "display_name": "Python 3",
   "language": "python",
   "name": "python3"
  },
  "language_info": {
   "codemirror_mode": {
    "name": "ipython",
    "version": 3
   },
   "file_extension": ".py",
   "mimetype": "text/x-python",
   "name": "python",
   "nbconvert_exporter": "python",
   "pygments_lexer": "ipython3",
   "version": "3.11.5"
  }
 },
 "nbformat": 4,
 "nbformat_minor": 2
}
