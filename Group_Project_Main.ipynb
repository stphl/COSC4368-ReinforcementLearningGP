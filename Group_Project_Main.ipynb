{
 "cells": [
  {
   "cell_type": "markdown",
   "metadata": {},
   "source": [
    "# COSC 4368 Group Project :'("
   ]
  },
  {
   "cell_type": "markdown",
   "metadata": {},
   "source": [
    "Important Information for Jackson's implementation of Agent Class and environment space:\n",
    "* Gamestate is a list of integers, [3,3,5,3,1,3,0,0,0,0,0,0,5,5,5]. \n",
    "* Legal Moves is a list of Chars, [\"P\", \"D\", \"N\", \"E\", \"S\", \"W\"]"
   ]
  },
  {
   "cell_type": "markdown",
   "metadata": {},
   "source": [
    "Below will be the agent class that will create objects with a Q Table and an ID. \n",
    "\n",
    "It currently has three non-declaration functions \n",
    "1. getLegalMoves(): takes in gamestate and using the ID of the agent derives all legal moves for the agent. returns a list of capital letter chars\n",
    "2. updateGamestate(): takes in gamestate and nextmove and applies the next move to the game state. returns a list of integers representative of the environment\n",
    "3. step(): calls previous methods to produce the whole step of the agent given the game state. returns a list of integers representative of the environment and should update the agent's Qtable when appropriate\n",
    "\n",
    "Todo \n",
    "* implement the Q-Table\n",
    "* implement functions relating to the Q-Table, update, build, etc\n",
    "* Next Move according to policy needs to be implemented"
   ]
  },
  {
   "cell_type": "code",
   "execution_count": 50,
   "metadata": {},
   "outputs": [],
   "source": [
    "class Agent:\n",
    "    # this class is used to define the different agents\n",
    "\n",
    "    def __init__(self, agentID):\n",
    "        # self.qtable = None            To be filled out later\n",
    "        self.agentID = agentID\n",
    "    \n",
    "    def getLegalMoves(self, gamestate):\n",
    "        legalMoves = [\"P\", \"D\", \"N\", \"S\", \"E\", \"W\"]\n",
    "        positions = gamestate[0:6]\n",
    "\n",
    "        ipositions = [positions[0], positions[2], positions[4]]\n",
    "        agentI = ipositions.pop(self.agentID)\n",
    "\n",
    "        jpositions = [positions[1], positions[3],  positions[5]]\n",
    "        agentJ = jpositions.pop(self.agentID)\n",
    "\n",
    "        otherAgentPositions = [[ipositions[0], jpositions[0]], [ipositions[1], jpositions[1]]]\n",
    "\n",
    "        agentBox = gamestate[self.agentID+6]\n",
    "\n",
    "        dropoff = gamestate[9:12]\n",
    "        dropoffPositions = [[1,1], [3,1], [4,5]]\n",
    "\n",
    "        pickup = gamestate[12:]\n",
    "        pickupPositions = [[1,5], [2,4], [5,2]]\n",
    "\n",
    "        if(agentBox == 0):\n",
    "            legalMoves.remove(\"D\")\n",
    "            if([agentI, agentJ] not in pickupPositions):\n",
    "                legalMoves.remove(\"P\")\n",
    "            else:\n",
    "                index = 0\n",
    "                for location in pickupPositions:\n",
    "                    if ([agentI, agentJ] == location and pickup[index] == 0):\n",
    "                        legalMoves.remove(\"P\")\n",
    "                    index += 1\n",
    "        else:\n",
    "            legalMoves.remove(\"P\")\n",
    "            if([agentI, agentJ] not in dropoffPositions):\n",
    "                legalMoves.remove(\"D\")\n",
    "            else:\n",
    "                index = 0\n",
    "                for location in dropoffPositions:\n",
    "                    if ([agentI, agentJ] == location and dropoff[index] == 5):\n",
    "                        legalMoves.remove(\"D\")\n",
    "                    index += 1\n",
    "\n",
    "        if([agentI-1, agentJ] in otherAgentPositions or agentI-1 == 0):\n",
    "            legalMoves.remove(\"N\")\n",
    "        if([agentI+1, agentJ] in otherAgentPositions or agentI+1 == 6):\n",
    "            legalMoves.remove(\"S\")\n",
    "        if([agentI, agentJ-1] in otherAgentPositions or agentJ-1 == 0):\n",
    "            legalMoves.remove(\"W\")   \n",
    "        if([agentI, agentJ+1] in otherAgentPositions or agentJ+1 == 6):\n",
    "            legalMoves.remove(\"E\")   \n",
    "\n",
    "        return legalMoves\n",
    "\n",
    "    def updateGameState(self, gamestate, nextMove):\n",
    "        agentI = gamestate[self.agentID*2]\n",
    "        agentJ = gamestate[self.agentID*2+1]\n",
    "\n",
    "        dropoffPositions = [[1,1], [3,1], [4,5]]\n",
    "        pickupPositions = [[1,5], [2,4], [5,2]]\n",
    "\n",
    "        if(nextMove == \"D\"):\n",
    "            index = 0\n",
    "            for location in dropoffPositions:\n",
    "                if([agentI, agentJ] == location):\n",
    "                    gamestate[9 + index] = gamestate[9 + index] + 1\n",
    "                index += 1\n",
    "            gamestate[6+self.agentID] = 0\n",
    "\n",
    "        if(nextMove == \"P\"):\n",
    "            index = 0\n",
    "            for location in pickupPositions:\n",
    "                if([agentI, agentJ] == location):\n",
    "                    gamestate[12 + index] = gamestate[12 + index] - 1\n",
    "                index += 1\n",
    "            gamestate[6+self.agentID] = 1\n",
    "\n",
    "        if(nextMove == \"N\"):\n",
    "            gamestate[self.agentID*2] = agentI-1\n",
    "        if(nextMove == \"S\"):\n",
    "            gamestate[self.agentID*2] = agentI+1\n",
    "        if(nextMove == \"W\"):\n",
    "            gamestate[self.agentID*2+1] = agentI-1\n",
    "        if(nextMove == \"E\"):\n",
    "            gamestate[self.agentID*2+1] = agentI+1\n",
    "\n",
    "        return gamestate\n",
    "    \n",
    "    def step(self, gamestate):\n",
    "        legalmoves = self.getLegalMoves(gamestate)\n",
    "        nextMove = None                                   # will be changed when Q Table is implemented\n",
    "        # updateQTable(nextMove)\n",
    "        newGameState = self.updateGameState(gamestate, nextMove)\n",
    "        return newGameState\n",
    "        "
   ]
  },
  {
   "cell_type": "code",
   "execution_count": 51,
   "metadata": {},
   "outputs": [
    {
     "name": "stdout",
     "output_type": "stream",
     "text": [
      "3\n"
     ]
    }
   ],
   "source": [
    "redAgent = Agent(0)\n",
    "blueAgent = Agent(1)\n",
    "blackAgent = Agent(2)\n",
    "\n",
    "initialEnvironment = [3,3,5,3,1,3,0,0,0,0,0,0,5,5,5]\n"
   ]
  }
 ],
 "metadata": {
  "kernelspec": {
   "display_name": "base",
   "language": "python",
   "name": "python3"
  },
  "language_info": {
   "codemirror_mode": {
    "name": "ipython",
    "version": 3
   },
   "file_extension": ".py",
   "mimetype": "text/x-python",
   "name": "python",
   "nbconvert_exporter": "python",
   "pygments_lexer": "ipython3",
   "version": "3.11.5"
  }
 },
 "nbformat": 4,
 "nbformat_minor": 2
}
